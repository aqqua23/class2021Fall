{
  "nbformat": 4,
  "nbformat_minor": 0,
  "metadata": {
    "colab": {
      "name": "test.ipynb",
      "provenance": [],
      "authorship_tag": "ABX9TyOb8QePV55JUJojJeQEYpW2",
      "include_colab_link": true
    },
    "kernelspec": {
      "name": "python3",
      "display_name": "Python 3"
    },
    "language_info": {
      "name": "python"
    }
  },
  "cells": [
    {
      "cell_type": "markdown",
      "metadata": {
        "id": "view-in-github",
        "colab_type": "text"
      },
      "source": [
        "<a href=\"https://colab.research.google.com/github/aqqua23/class2021Fall/blob/main/test.ipynb\" target=\"_parent\"><img src=\"https://colab.research.google.com/assets/colab-badge.svg\" alt=\"Open In Colab\"/></a>"
      ]
    },
    {
      "cell_type": "markdown",
      "metadata": {
        "id": "DXeW8LE79_tq"
      },
      "source": [
        "**변수 (variables), 제어문 (syntax), 함수**\n",
        "\n",
        "변수를 쓸 때는 반드시 \"=\"을 사용함.\n",
        "우측을 좌측의 변수에 할당하는 것임.\n",
        "문자열 작성 시 '' 사용. \n",
        "print는 변수에 정보가 잘 들어갔는지 확인 시켜준다."
      ]
    },
    {
      "cell_type": "code",
      "metadata": {
        "colab": {
          "base_uri": "https://localhost:8080/"
        },
        "id": "LX-46C6L_SlV",
        "outputId": "35c0f96b-d6e8-497f-c94d-f4d851f99caf"
      },
      "source": [
        "a=1\n",
        "b='hello'\n",
        "print(a)\n",
        "print(b)"
      ],
      "execution_count": 4,
      "outputs": [
        {
          "output_type": "stream",
          "name": "stdout",
          "text": [
            "1\n",
            "hello\n"
          ]
        }
      ]
    },
    {
      "cell_type": "markdown",
      "metadata": {
        "id": "cUXF7n9A-zzH"
      },
      "source": [
        "위의 경우에서 a는 숫자이고 b는 문자이다.\n",
        "주석은 #을 앞에 달면 된다. (그 부분을 실행시키지 않게 한다.)\n",
        "int, float는 숫자, str는 문자이다.\n",
        "여러개를 한꺼번에 넣으면 list이다."
      ]
    },
    {
      "cell_type": "code",
      "metadata": {
        "colab": {
          "base_uri": "https://localhost:8080/"
        },
        "id": "yi7rPGiy76pB",
        "outputId": "eaf17454-2ffb-4a5a-c68f-1d9397c9f3df"
      },
      "source": [
        "a = 1\n",
        "b = 'hello'\n",
        "c = 1.1\n",
        "d = [1, 'abc', 2.1]\n",
        "\n",
        "# print(a)\n",
        "# print(b)\n",
        "\n",
        "print(type(a))\n",
        "print(type(b))\n",
        "print(type(c))\n",
        "print(type(d))"
      ],
      "execution_count": 6,
      "outputs": [
        {
          "output_type": "stream",
          "name": "stdout",
          "text": [
            "<class 'int'>\n",
            "<class 'str'>\n",
            "<class 'float'>\n",
            "<class 'list'>\n"
          ]
        }
      ]
    }
  ]
}