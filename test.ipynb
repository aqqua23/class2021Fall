{
  "nbformat": 4,
  "nbformat_minor": 0,
  "metadata": {
    "colab": {
      "name": "test.ipynb",
      "provenance": [],
      "authorship_tag": "ABX9TyMbQsS+LuQEGCaRGbm0+U+S",
      "include_colab_link": true
    },
    "kernelspec": {
      "name": "python3",
      "display_name": "Python 3"
    },
    "language_info": {
      "name": "python"
    }
  },
  "cells": [
    {
      "cell_type": "markdown",
      "metadata": {
        "id": "view-in-github",
        "colab_type": "text"
      },
      "source": [
        "<a href=\"https://colab.research.google.com/github/aqqua23/class2021Fall/blob/main/test.ipynb\" target=\"_parent\"><img src=\"https://colab.research.google.com/assets/colab-badge.svg\" alt=\"Open In Colab\"/></a>"
      ]
    },
    {
      "cell_type": "markdown",
      "metadata": {
        "id": "DXeW8LE79_tq"
      },
      "source": [
        "**변수 (variables), 제어문 (syntax), 함수**\n",
        "\n",
        "변수를 쓸 때는 반드시 \"=\"을 사용함.\n",
        "같다는 의미가 아니라 우측을 좌측의 변수에 할당하는 것임.\n",
        "문자열 작성 시 ' ' 사용. \n",
        "print는 변수에 정보가 잘 들어갔는지 확인 시켜준다."
      ]
    },
    {
      "cell_type": "code",
      "metadata": {
        "colab": {
          "base_uri": "https://localhost:8080/"
        },
        "id": "LX-46C6L_SlV",
        "outputId": "35c0f96b-d6e8-497f-c94d-f4d851f99caf"
      },
      "source": [
        "a=1\n",
        "b='hello'\n",
        "print(a)\n",
        "print(b)"
      ],
      "execution_count": 4,
      "outputs": [
        {
          "output_type": "stream",
          "name": "stdout",
          "text": [
            "1\n",
            "hello\n"
          ]
        }
      ]
    },
    {
      "cell_type": "markdown",
      "metadata": {
        "id": "cUXF7n9A-zzH"
      },
      "source": [
        "위의 경우에서 a는 숫자이고 b는 문자이다.\n",
        "주석은 #을 앞에 달면 된다. (그 부분을 실행시키지 않게 한다.)\n",
        "\n",
        "**알짜 변수들**\n",
        "int, float는 숫자, str는 문자이다.\n",
        "여러개를 한꺼번에 넣으면 list이다.\n",
        "python에선 첫번째가 0이다. dict에서는 {\"표제어\" : \"(표제어에 해당하는) content\",...} 순서이다."
      ]
    },
    {
      "cell_type": "code",
      "metadata": {
        "colab": {
          "base_uri": "https://localhost:8080/"
        },
        "id": "yi7rPGiy76pB",
        "outputId": "c9d41f06-4de0-4d20-ee4d-029d294f6fd3"
      },
      "source": [
        "a = 1\n",
        "b = 1.1\n",
        "c = 'hello'\n",
        "d = [1, 'abc', 2.1]\n",
        "e = {\"apple\":\"red fruit\", \"banana\":\"yellow fruit\"}\n",
        "\n",
        "# print(a)\n",
        "# print(b)\n",
        "\n",
        "print(type(a))\n",
        "print(type(b))\n",
        "print(type(c))\n",
        "print(type(d))\n",
        "print(type(e))\n",
        "\n",
        "print(d[1])\n",
        "print(c[0])"
      ],
      "execution_count": 16,
      "outputs": [
        {
          "output_type": "stream",
          "name": "stdout",
          "text": [
            "<class 'int'>\n",
            "<class 'float'>\n",
            "<class 'str'>\n",
            "<class 'list'>\n",
            "<class 'dict'>\n",
            "abc\n",
            "h\n"
          ]
        }
      ]
    },
    {
      "cell_type": "markdown",
      "metadata": {
        "id": "jts7_CDxCMaO"
      },
      "source": [
        "참고로, 숫자가 아니라 표제어에 해당하는 것을 access해야 함. 위의 경우, 숫자에 print(b[0])하면 오류가 남.\n",
        "(SyntaxError: can't assign to literal 뜸)"
      ]
    }
  ]
}