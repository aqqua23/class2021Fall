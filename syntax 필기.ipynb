{
  "nbformat": 4,
  "nbformat_minor": 0,
  "metadata": {
    "kernelspec": {
      "display_name": "Python 3",
      "language": "python",
      "name": "python3"
    },
    "language_info": {
      "codemirror_mode": {
        "name": "ipython",
        "version": 3
      },
      "file_extension": ".py",
      "mimetype": "text/x-python",
      "name": "python",
      "nbconvert_exporter": "python",
      "pygments_lexer": "ipython3",
      "version": "3.7.1"
    },
    "colab": {
      "name": "syntax.ipynb",
      "provenance": [],
      "include_colab_link": true
    }
  },
  "cells": [
    {
      "cell_type": "markdown",
      "metadata": {
        "id": "view-in-github",
        "colab_type": "text"
      },
      "source": [
        "<a href=\"https://colab.research.google.com/github/aqqua23/class2021Fall/blob/main/syntax%20%ED%95%84%EA%B8%B0.ipynb\" target=\"_parent\"><img src=\"https://colab.research.google.com/assets/colab-badge.svg\" alt=\"Open In Colab\"/></a>"
      ]
    },
    {
      "cell_type": "markdown",
      "metadata": {
        "id": "yohipOUbJjDY"
      },
      "source": [
        "**2021/11/08 MON**"
      ]
    },
    {
      "cell_type": "code",
      "metadata": {
        "id": "Fu2mzgrqSLAU",
        "outputId": "283876b5-0fc9-4961-d92d-d242b3c222de"
      },
      "source": [
        "a = [1, 2, 3, 4]\n",
        "for i in a:\n",
        "    print(i)"
      ],
      "execution_count": null,
      "outputs": [
        {
          "output_type": "stream",
          "text": [
            "1\n",
            "2\n",
            "3\n",
            "4\n"
          ],
          "name": "stdout"
        }
      ]
    },
    {
      "cell_type": "markdown",
      "metadata": {
        "id": "F273UTLGE1Ao"
      },
      "source": [
        "for구문 = 같은 패턴을 여러번 반복하게 해줌.\n",
        "\n",
        "for i in a 에서 a에는 list가 들어가지고, 이것들이 i에 들어가서 반복됨."
      ]
    },
    {
      "cell_type": "code",
      "metadata": {
        "id": "92IEeNzhEuj4",
        "colab": {
          "base_uri": "https://localhost:8080/"
        },
        "outputId": "73772d2f-abf6-41e9-885e-d26dac4cd07d"
      },
      "source": [
        "a = [1, 2, 3, 4]\n",
        "\n",
        "print(a[0])\n",
        "print(a[1])\n",
        "print(a[2])\n",
        "print(a[3])"
      ],
      "execution_count": null,
      "outputs": [
        {
          "output_type": "stream",
          "name": "stdout",
          "text": [
            "1\n"
          ]
        }
      ]
    },
    {
      "cell_type": "code",
      "metadata": {
        "id": "H3Fk-E_QF3_S",
        "colab": {
          "base_uri": "https://localhost:8080/"
        },
        "outputId": "c849e301-7100-44c7-e80e-f7cb912c17ff"
      },
      "source": [
        "a = [1,2,3,4]\n",
        "for i in a :\n",
        "  print(i)\n",
        "  print(i+1)\n",
        "print('hello')"
      ],
      "execution_count": null,
      "outputs": [
        {
          "output_type": "stream",
          "name": "stdout",
          "text": [
            "1\n",
            "2\n",
            "2\n",
            "3\n",
            "3\n",
            "4\n",
            "4\n",
            "5\n",
            "hello\n"
          ]
        }
      ]
    },
    {
      "cell_type": "markdown",
      "metadata": {
        "id": "AdqyVpXgFiCm"
      },
      "source": [
        "a = [1,2,3,4,....10000]일 경우 매우 반복적이기 때문에, for을 사용함.\n",
        "\n",
        "\"for   in    :\"을 반드시 작성해야 함.\n",
        "\n",
        "**구문 (for loop)**\n",
        "a에 있는 것에서 제일 첫번째 부터 제일 끝까지 i라는 변수에 넣는다.\n",
        "\n",
        "for ~ in ~ : /n    print\n",
        "\n",
        "indentation(들여쓰기)이 적용된 부분까지 구문이 적용된다."
      ]
    },
    {
      "cell_type": "markdown",
      "metadata": {
        "id": "ymNKNokHHHzY"
      },
      "source": [
        "*** 아랫부분은 중요한 내용이다**\n",
        "\n",
        "숫자의 index를 사용.  여기서 a의 길이가 4이므로 range(4)라고 하단에 작성함.\n",
        "\n",
        "len(a)를 하면 직접 구하지 않아도 길이를 계산되게 할 수 있다."
      ]
    },
    {
      "cell_type": "code",
      "metadata": {
        "id": "du9kA670HkR0",
        "colab": {
          "base_uri": "https://localhost:8080/"
        },
        "outputId": "4a82ec5d-4aba-4408-ec4b-f1eb234ab6ea"
      },
      "source": [
        "a = [1,2,3,4]\n",
        "for i in range(4) :\n",
        "  print(a[i])"
      ],
      "execution_count": null,
      "outputs": [
        {
          "output_type": "stream",
          "name": "stdout",
          "text": [
            "1\n",
            "2\n",
            "3\n",
            "4\n"
          ]
        }
      ]
    },
    {
      "cell_type": "code",
      "metadata": {
        "id": "XSJxLJVCSLAW",
        "outputId": "921b10b7-3bc8-4345-a6b2-16253a900c95"
      },
      "source": [
        "a = [1, 2, 3, 4]\n",
        "for i in range(len(a)):\n",
        "    print(a[i])"
      ],
      "execution_count": null,
      "outputs": [
        {
          "output_type": "stream",
          "text": [
            "1\n",
            "2\n",
            "3\n",
            "4\n"
          ],
          "name": "stdout"
        }
      ]
    },
    {
      "cell_type": "markdown",
      "metadata": {
        "id": "5yljfZX7IJeW"
      },
      "source": [
        "위의 사례에서 range(5)를 할 경우 없는 index를 사용한 것이기 때문에 오류가 뜬다.\n",
        "\n",
        "len도, print도 function이다.\n",
        "print시엔 parenthesis를 한다. 괄호 속엔 입력이 들어간다.\n"
      ]
    },
    {
      "cell_type": "code",
      "metadata": {
        "id": "QTFvEVejRKZ1",
        "outputId": "544a46c8-9f05-4152-8ed5-d0438fca1d1c",
        "colab": {
          "base_uri": "https://localhost:8080/"
        }
      },
      "source": [
        "a = [1,2,3,4]\n",
        "\n",
        "len(a)\n"
      ],
      "execution_count": 1,
      "outputs": [
        {
          "output_type": "execute_result",
          "data": {
            "text/plain": [
              "4"
            ]
          },
          "metadata": {},
          "execution_count": 1
        }
      ]
    },
    {
      "cell_type": "markdown",
      "metadata": {
        "id": "itdH2GKQRRgq"
      },
      "source": [
        "위의 경우에서 len은 누군가 만들어놓은 함수이다. 이것이 제일 마지막에 있으면 print를 사용하지 않아도 함수가 바로 작동한다."
      ]
    },
    {
      "cell_type": "code",
      "metadata": {
        "id": "VTfxVRdgSLAW",
        "outputId": "7b430ba8-015e-4296-c883-ce2b3f9ed43b"
      },
      "source": [
        "a = ['red', 'green', 'blue', 'purple']\n",
        "for i in a:\n",
        "    print(i)"
      ],
      "execution_count": null,
      "outputs": [
        {
          "output_type": "stream",
          "text": [
            "red\n",
            "green\n",
            "blue\n",
            "purple\n"
          ],
          "name": "stdout"
        }
      ]
    },
    {
      "cell_type": "markdown",
      "metadata": {
        "id": "nqb77xGkST5i"
      },
      "source": [
        "range(4)가 되면 4번이 돈다는 뜻이다."
      ]
    },
    {
      "cell_type": "code",
      "metadata": {
        "id": "Vc-7pW85SLAW",
        "outputId": "9394e177-c8c8-44db-ff28-1e9566072bb3"
      },
      "source": [
        "a = ['red', 'green', 'blue', 'purple']\n",
        "for i in range(len(a)):\n",
        "    print(a[i])"
      ],
      "execution_count": null,
      "outputs": [
        {
          "output_type": "stream",
          "text": [
            "red\n",
            "green\n",
            "blue\n",
            "purple\n"
          ],
          "name": "stdout"
        }
      ]
    },
    {
      "cell_type": "markdown",
      "metadata": {
        "id": "ztlw763wFLjD"
      },
      "source": [
        "\n",
        "if구문 = \"~할 때\"만 적용되도록 해줌.\n",
        "\n",
        "equal sign(=)을 두개 쓰면 (==) 이것은 대입이 아니라 정말 같다는 것을 의미한다.\n",
        "\n",
        "else, if 쓸 때 뒤에 \":\"을 붙여야 한다."
      ]
    },
    {
      "cell_type": "code",
      "metadata": {
        "id": "dD-ephD3SLAX",
        "outputId": "69d729f8-996a-41be-d84b-f1bd2a7c809c"
      },
      "source": [
        "a = 0\n",
        "if a == 0:\n",
        "    print(a)\n",
        "else:\n",
        "    print(a+1)"
      ],
      "execution_count": null,
      "outputs": [
        {
          "output_type": "stream",
          "text": [
            "0\n"
          ],
          "name": "stdout"
        }
      ]
    },
    {
      "cell_type": "code",
      "metadata": {
        "id": "7NarxW1LI4Rm",
        "colab": {
          "base_uri": "https://localhost:8080/"
        },
        "outputId": "9b54d85b-e47e-4e01-ef23-4d900a1028cd"
      },
      "source": [
        "a=0\n",
        "if a ==1:\n",
        "  print(a)\n",
        "else:\n",
        "  print(a+1)"
      ],
      "execution_count": null,
      "outputs": [
        {
          "output_type": "stream",
          "name": "stdout",
          "text": [
            "1\n"
          ]
        }
      ]
    },
    {
      "cell_type": "markdown",
      "metadata": {
        "id": "e498MOPsJHs1"
      },
      "source": [
        "## **2011-11-10 WED**\n",
        "\n",
        "\n",
        "\n",
        "**이중으로 되어 있는 for 구조** (nested for)\n",
        "\n",
        "* nested = 내포된\n",
        "\n",
        "아래의 경우 내부에선 3,4 (2번), 외부에선 1,2(2번), 총 2*2 = 4번 돈다."
      ]
    },
    {
      "cell_type": "code",
      "metadata": {
        "id": "M0AZaDMvSLAY",
        "outputId": "b25a5fe6-defa-4549-85b0-0c146ff7a2a0"
      },
      "source": [
        "for i in range(1, 3):\n",
        "    for j in range(3, 5):\n",
        "        print(i*j)"
      ],
      "execution_count": null,
      "outputs": [
        {
          "output_type": "stream",
          "text": [
            "3\n",
            "4\n",
            "6\n",
            "8\n"
          ],
          "name": "stdout"
        }
      ]
    },
    {
      "cell_type": "code",
      "metadata": {
        "id": "ZPpZmVIHSLAY",
        "outputId": "0bbcc529-c1d8-4774-e1ad-9de8b9e065ce"
      },
      "source": [
        "for i in range(1, 3):\n",
        "    for j in range(3, 5):\n",
        "        if j >=4:\n",
        "            print(i*j)"
      ],
      "execution_count": null,
      "outputs": [
        {
          "output_type": "stream",
          "text": [
            "4\n",
            "8\n"
          ],
          "name": "stdout"
        }
      ]
    },
    {
      "cell_type": "markdown",
      "metadata": {
        "id": "bvHE6_QqJNV0"
      },
      "source": [
        "**for와 if가 list 안에 들어간 경우** (list comprehension)"
      ]
    },
    {
      "cell_type": "markdown",
      "metadata": {
        "id": "-9hEhEXsUbu6"
      },
      "source": [
        "아래에선 if가 for loop의 밑에 있다고 생각하면 된다.\n",
        "\n",
        "for i in a\n",
        "\n",
        "  if i>=2\n",
        "\n",
        "위와 같은 경우임. 결국 \"b를 i로 채워서 list로 만들어라\"는 뜻."
      ]
    },
    {
      "cell_type": "code",
      "metadata": {
        "id": "JQXk5vi0SLAY",
        "outputId": "cd3306f3-6d6d-446e-dd4a-f7f4e11dd967"
      },
      "source": [
        "a = [1, 2, 3, 4]\n",
        "b = [i for i in a if i >=2]\n",
        "b"
      ],
      "execution_count": null,
      "outputs": [
        {
          "output_type": "execute_result",
          "data": {
            "text/plain": [
              "[2, 3, 4]"
            ]
          },
          "metadata": {
            "tags": []
          },
          "execution_count": 12
        }
      ]
    },
    {
      "cell_type": "markdown",
      "metadata": {
        "id": "ZUKH7vtwVeTW"
      },
      "source": [
        "len(i)>=4면 list up 하라는 뜻.\n"
      ]
    },
    {
      "cell_type": "code",
      "metadata": {
        "id": "MDmBGZ3LSLAZ",
        "outputId": "bd06f885-7334-43d9-d92d-848c615f6771"
      },
      "source": [
        "a = ['red', 'green', 'blue', 'purple']\n",
        "b = [i for i in a if len(i) >=4]\n",
        "b"
      ],
      "execution_count": null,
      "outputs": [
        {
          "output_type": "execute_result",
          "data": {
            "text/plain": [
              "['green', 'blue', 'purple']"
            ]
          },
          "metadata": {
            "tags": []
          },
          "execution_count": 13
        }
      ]
    }
  ]
}