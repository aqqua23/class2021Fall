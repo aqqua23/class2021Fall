{
  "nbformat": 4,
  "nbformat_minor": 0,
  "metadata": {
    "colab": {
      "name": "function.ipynb",
      "provenance": [],
      "include_colab_link": true
    },
    "kernelspec": {
      "name": "python3",
      "display_name": "Python 3"
    }
  },
  "cells": [
    {
      "cell_type": "markdown",
      "metadata": {
        "id": "view-in-github",
        "colab_type": "text"
      },
      "source": [
        "<a href=\"https://colab.research.google.com/github/aqqua23/class2021Fall/blob/main/function_%ED%95%84%EA%B8%B0.ipynb\" target=\"_parent\"><img src=\"https://colab.research.google.com/assets/colab-badge.svg\" alt=\"Open In Colab\"/></a>"
      ]
    },
    {
      "cell_type": "markdown",
      "metadata": {
        "id": "zDbQ3oJrbBLD"
      },
      "source": [
        "함수에 대한 이야기"
      ]
    },
    {
      "cell_type": "code",
      "metadata": {
        "id": "hpc_mhgAye2S"
      },
      "source": [
        "def add(a,b):\n",
        "  return a+b\n",
        "\n",
        "def subtract(a,b):\n",
        "  return a-b\n",
        "\n",
        "def multiply(a,b):\n",
        "  return a*b\n",
        "\n",
        "def divide(a,b):\n",
        "  return a/b"
      ],
      "execution_count": null,
      "outputs": []
    },
    {
      "cell_type": "markdown",
      "metadata": {
        "id": "lv3wdGFUYI8-"
      },
      "source": [
        "아래는 새로운 함수를 지정해서 쓸 수 있게 하는 것. 함수 자체가 메모리 상태에 올라간다 ( 쓸 수 있는 상태가 되었다)는 뜻이다.\n",
        "\n",
        "<함수를 만드는 방법>\n",
        "\n",
        "(참고로 함수는 입출력이 없어도 된다)"
      ]
    },
    {
      "cell_type": "code",
      "metadata": {
        "id": "UQ6t-qN3YNOu"
      },
      "source": [
        "def myfirstfunc(a,b,c):\n",
        "    d = a+b\n",
        "    e = d+4\n",
        "    f = e/c\n",
        "    return f"
      ],
      "execution_count": 3,
      "outputs": []
    },
    {
      "cell_type": "code",
      "metadata": {
        "id": "zcMP071FYle2",
        "outputId": "933e82c3-1b9d-48a3-ebec-72081f84152b",
        "colab": {
          "base_uri": "https://localhost:8080/"
        }
      },
      "source": [
        "myfirstfunc(1,0,2)\n",
        "\n",
        "# k=myfirstfunc(1,0,2)\n",
        "# print(k)\n",
        "# 이 방법도 출력이 되는 또 다른 방법이다."
      ],
      "execution_count": 4,
      "outputs": [
        {
          "output_type": "execute_result",
          "data": {
            "text/plain": [
              "2.5"
            ]
          },
          "metadata": {},
          "execution_count": 4
        }
      ]
    },
    {
      "cell_type": "code",
      "metadata": {
        "colab": {
          "base_uri": "https://localhost:8080/"
        },
        "id": "8Y4oa05Eykn4",
        "outputId": "7e186590-61dc-49a9-e22f-0bcb617fd3b7"
      },
      "source": [
        "c = add(1,2); print(c)\n",
        "c = subtract(1,2); print(c)\n",
        "c = multiply(1,2); print(c)\n",
        "c = divide(1,2); print(c)"
      ],
      "execution_count": null,
      "outputs": [
        {
          "output_type": "stream",
          "text": [
            "3\n",
            "-1\n",
            "2\n",
            "0.5\n"
          ],
          "name": "stdout"
        }
      ]
    },
    {
      "cell_type": "markdown",
      "metadata": {
        "id": "CF-R8ZAPax9e"
      },
      "source": [
        "추가 사례"
      ]
    },
    {
      "cell_type": "code",
      "metadata": {
        "id": "OxOMln04azjf"
      },
      "source": [
        "def testfunc():\n",
        "  a=1\n",
        "  b=2\n",
        "  c=a+b\n",
        "  print(c)"
      ],
      "execution_count": 5,
      "outputs": []
    },
    {
      "cell_type": "code",
      "metadata": {
        "id": "XA2Ir8t8a5KW",
        "outputId": "c27630cb-24c4-4c25-8452-5a28eaef7bce",
        "colab": {
          "base_uri": "https://localhost:8080/"
        }
      },
      "source": [
        "testfunc()"
      ],
      "execution_count": 6,
      "outputs": [
        {
          "output_type": "stream",
          "name": "stdout",
          "text": [
            "3\n"
          ]
        }
      ]
    }
  ]
}